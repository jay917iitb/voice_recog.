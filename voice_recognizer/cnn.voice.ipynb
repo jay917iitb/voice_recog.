{
 "cells": [
  {
   "cell_type": "code",
   "execution_count": null,
   "id": "e0c90257-cfe9-4c8b-a23d-40aafd6bc3a8",
   "metadata": {},
   "outputs": [],
   "source": [
    "import os\n",
    "import numpy as np\n",
    "import pandas as pd\n",
    "import librosa\n",
    "from sklearn.model_selection import train_test_split\n",
    "import tensorflow as tf\n",
    "from tensorflow.keras.models import Sequential\n",
    "from tensorflow.keras.layers import Dense, Dropout, Flatten, Conv2D, MaxPooling2D\n",
    "from tensorflow.keras.utils import to_categorical"
   ]
  },
  {
   "cell_type": "code",
   "execution_count": null,
   "id": "5f5e8785-8360-4622-ac92-e22a84119d4e",
   "metadata": {},
   "outputs": [],
   "source": [
    "data = pd.read_csv('newww (2).csv') "
   ]
  },
  {
   "cell_type": "code",
   "execution_count": null,
   "id": "1a8464b9-a10c-495a-b25c-5afa2ed345ef",
   "metadata": {},
   "outputs": [],
   "source": [
    "data.columns"
   ]
  },
  {
   "cell_type": "code",
   "execution_count": 11,
   "id": "2e996448-91f8-40b1-bb86-373ebd8adad2",
   "metadata": {},
   "outputs": [],
   "source": [
    "X = data[['Column2', 'Column3', 'Column4', 'Column5', 'Column6', 'Column7',\n",
    "       'Column8', 'Column9', 'Column10', 'Column11', 'Column12', 'Column13',\n",
    "       'Column14', 'Column15', 'Column16', 'Column17', 'Column18', 'Column19',\n",
    "       'Column20', 'Column21', 'cent_value', 'spect_width', 'rms',\n",
    "       'zero_crossing_rate', 'roll_off', 'chroma_stft']].to_numpy()\n",
    "y = data[['label']].to_numpy()"
   ]
  },
  {
   "cell_type": "code",
   "execution_count": 12,
   "id": "e8b693d0-b37a-4bc0-9560-29238ed795d3",
   "metadata": {},
   "outputs": [],
   "source": [
    "X_train, X_test, y_train, y_test = train_test_split(X, y, test_size=0.2, random_state=42)\n"
   ]
  },
  {
   "cell_type": "code",
   "execution_count": 16,
   "id": "3ba1a226-6f9a-4955-be4a-b014c4588939",
   "metadata": {},
   "outputs": [],
   "source": [
    "X_train = X_train.reshape(X_train.shape[0], 26, 1, 1)\n",
    "X_test = X_test.reshape(X_test.shape[0], 26, 1, 1)\n"
   ]
  },
  {
   "cell_type": "code",
   "execution_count": 15,
   "id": "f8c94a78-e327-46d9-aa7c-0702b950dcf6",
   "metadata": {},
   "outputs": [
    {
     "data": {
      "text/plain": [
       "(11778, 27)"
      ]
     },
     "execution_count": 15,
     "metadata": {},
     "output_type": "execute_result"
    }
   ],
   "source": [
    "data.shape"
   ]
  },
  {
   "cell_type": "code",
   "execution_count": 17,
   "id": "0a53153e-635f-401e-aaa4-25001906d9c6",
   "metadata": {},
   "outputs": [],
   "source": [
    "y_train = to_categorical(y_train)\n",
    "y_test = to_categorical(y_test)"
   ]
  },
  {
   "cell_type": "code",
   "execution_count": 22,
   "id": "c90b1839-968d-42cd-bc96-ad331ae5ab79",
   "metadata": {},
   "outputs": [],
   "source": [
    "model = Sequential()\n",
    "model.add(Conv2D(32, kernel_size=(3, 3), activation='relu', input_shape=(26, 1, 1), padding='same'))\n",
    "model.add(MaxPooling2D(pool_size=(2, 1)))  # Adjusted pool size\n",
    "model.add(Dropout(0.25))\n",
    "model.add(Flatten())\n",
    "model.add(Dense(128, activation='relu'))\n",
    "model.add(Dropout(0.5))\n",
    "model.add(Dense(2, activation='softmax'))\n"
   ]
  },
  {
   "cell_type": "code",
   "execution_count": 23,
   "id": "e84bc51d-cb2d-4eaf-a2db-1c061339e73f",
   "metadata": {},
   "outputs": [],
   "source": [
    "model.compile(optimizer='adam', loss='categorical_crossentropy', metrics=['accuracy'])"
   ]
  },
  {
   "cell_type": "code",
   "execution_count": 24,
   "id": "e9d43940-a7a7-4bb2-8248-203ac3a1f6a8",
   "metadata": {},
   "outputs": [
    {
     "name": "stdout",
     "output_type": "stream",
     "text": [
      "Epoch 1/50\n",
      "\u001b[1m295/295\u001b[0m \u001b[32m━━━━━━━━━━━━━━━━━━━━\u001b[0m\u001b[37m\u001b[0m \u001b[1m2s\u001b[0m 2ms/step - accuracy: 0.5223 - loss: 70.2134 - val_accuracy: 0.4936 - val_loss: 0.6936\n",
      "Epoch 2/50\n",
      "\u001b[1m295/295\u001b[0m \u001b[32m━━━━━━━━━━━━━━━━━━━━\u001b[0m\u001b[37m\u001b[0m \u001b[1m1s\u001b[0m 2ms/step - accuracy: 0.5281 - loss: 0.8561 - val_accuracy: 0.4936 - val_loss: 0.6936\n",
      "Epoch 3/50\n",
      "\u001b[1m295/295\u001b[0m \u001b[32m━━━━━━━━━━━━━━━━━━━━\u001b[0m\u001b[37m\u001b[0m \u001b[1m1s\u001b[0m 2ms/step - accuracy: 0.5186 - loss: 0.7354 - val_accuracy: 0.4936 - val_loss: 0.6933\n",
      "Epoch 4/50\n",
      "\u001b[1m295/295\u001b[0m \u001b[32m━━━━━━━━━━━━━━━━━━━━\u001b[0m\u001b[37m\u001b[0m \u001b[1m1s\u001b[0m 2ms/step - accuracy: 0.5188 - loss: 0.7137 - val_accuracy: 0.4936 - val_loss: 0.6935\n",
      "Epoch 5/50\n",
      "\u001b[1m295/295\u001b[0m \u001b[32m━━━━━━━━━━━━━━━━━━━━\u001b[0m\u001b[37m\u001b[0m \u001b[1m1s\u001b[0m 2ms/step - accuracy: 0.4963 - loss: 0.7057 - val_accuracy: 0.4936 - val_loss: 0.6933\n",
      "Epoch 6/50\n",
      "\u001b[1m295/295\u001b[0m \u001b[32m━━━━━━━━━━━━━━━━━━━━\u001b[0m\u001b[37m\u001b[0m \u001b[1m1s\u001b[0m 2ms/step - accuracy: 0.4955 - loss: 0.7022 - val_accuracy: 0.4936 - val_loss: 0.6932\n",
      "Epoch 7/50\n",
      "\u001b[1m295/295\u001b[0m \u001b[32m━━━━━━━━━━━━━━━━━━━━\u001b[0m\u001b[37m\u001b[0m \u001b[1m1s\u001b[0m 2ms/step - accuracy: 0.4959 - loss: 0.6994 - val_accuracy: 0.4936 - val_loss: 0.6932\n",
      "Epoch 8/50\n",
      "\u001b[1m295/295\u001b[0m \u001b[32m━━━━━━━━━━━━━━━━━━━━\u001b[0m\u001b[37m\u001b[0m \u001b[1m1s\u001b[0m 2ms/step - accuracy: 0.5079 - loss: 0.6968 - val_accuracy: 0.4936 - val_loss: 0.6932\n",
      "Epoch 9/50\n",
      "\u001b[1m295/295\u001b[0m \u001b[32m━━━━━━━━━━━━━━━━━━━━\u001b[0m\u001b[37m\u001b[0m \u001b[1m1s\u001b[0m 2ms/step - accuracy: 0.4983 - loss: 0.6995 - val_accuracy: 0.5064 - val_loss: 0.6931\n",
      "Epoch 10/50\n",
      "\u001b[1m295/295\u001b[0m \u001b[32m━━━━━━━━━━━━━━━━━━━━\u001b[0m\u001b[37m\u001b[0m \u001b[1m1s\u001b[0m 2ms/step - accuracy: 0.5053 - loss: 0.6929 - val_accuracy: 0.6218 - val_loss: 0.6714\n",
      "Epoch 11/50\n",
      "\u001b[1m295/295\u001b[0m \u001b[32m━━━━━━━━━━━━━━━━━━━━\u001b[0m\u001b[37m\u001b[0m \u001b[1m1s\u001b[0m 2ms/step - accuracy: 0.5488 - loss: 0.6749 - val_accuracy: 0.6477 - val_loss: 0.6185\n",
      "Epoch 12/50\n",
      "\u001b[1m295/295\u001b[0m \u001b[32m━━━━━━━━━━━━━━━━━━━━\u001b[0m\u001b[37m\u001b[0m \u001b[1m1s\u001b[0m 2ms/step - accuracy: 0.5854 - loss: 0.6499 - val_accuracy: 0.6515 - val_loss: 0.6321\n",
      "Epoch 13/50\n",
      "\u001b[1m295/295\u001b[0m \u001b[32m━━━━━━━━━━━━━━━━━━━━\u001b[0m\u001b[37m\u001b[0m \u001b[1m1s\u001b[0m 2ms/step - accuracy: 0.5908 - loss: 0.6508 - val_accuracy: 0.6842 - val_loss: 0.5973\n",
      "Epoch 14/50\n",
      "\u001b[1m295/295\u001b[0m \u001b[32m━━━━━━━━━━━━━━━━━━━━\u001b[0m\u001b[37m\u001b[0m \u001b[1m1s\u001b[0m 2ms/step - accuracy: 0.6024 - loss: 0.6454 - val_accuracy: 0.7012 - val_loss: 0.5935\n",
      "Epoch 15/50\n",
      "\u001b[1m295/295\u001b[0m \u001b[32m━━━━━━━━━━━━━━━━━━━━\u001b[0m\u001b[37m\u001b[0m \u001b[1m1s\u001b[0m 2ms/step - accuracy: 0.5951 - loss: 0.6382 - val_accuracy: 0.7292 - val_loss: 0.5887\n",
      "Epoch 16/50\n",
      "\u001b[1m295/295\u001b[0m \u001b[32m━━━━━━━━━━━━━━━━━━━━\u001b[0m\u001b[37m\u001b[0m \u001b[1m1s\u001b[0m 2ms/step - accuracy: 0.6069 - loss: 0.6353 - val_accuracy: 0.7317 - val_loss: 0.5695\n",
      "Epoch 17/50\n",
      "\u001b[1m295/295\u001b[0m \u001b[32m━━━━━━━━━━━━━━━━━━━━\u001b[0m\u001b[37m\u001b[0m \u001b[1m1s\u001b[0m 2ms/step - accuracy: 0.6055 - loss: 0.6283 - val_accuracy: 0.7301 - val_loss: 0.5780\n",
      "Epoch 18/50\n",
      "\u001b[1m295/295\u001b[0m \u001b[32m━━━━━━━━━━━━━━━━━━━━\u001b[0m\u001b[37m\u001b[0m \u001b[1m1s\u001b[0m 2ms/step - accuracy: 0.6114 - loss: 0.6302 - val_accuracy: 0.7063 - val_loss: 0.5955\n",
      "Epoch 19/50\n",
      "\u001b[1m295/295\u001b[0m \u001b[32m━━━━━━━━━━━━━━━━━━━━\u001b[0m\u001b[37m\u001b[0m \u001b[1m1s\u001b[0m 2ms/step - accuracy: 0.6093 - loss: 0.6275 - val_accuracy: 0.7343 - val_loss: 0.5646\n",
      "Epoch 20/50\n",
      "\u001b[1m295/295\u001b[0m \u001b[32m━━━━━━━━━━━━━━━━━━━━\u001b[0m\u001b[37m\u001b[0m \u001b[1m1s\u001b[0m 2ms/step - accuracy: 0.6222 - loss: 0.6363 - val_accuracy: 0.7500 - val_loss: 0.5407\n",
      "Epoch 21/50\n",
      "\u001b[1m295/295\u001b[0m \u001b[32m━━━━━━━━━━━━━━━━━━━━\u001b[0m\u001b[37m\u001b[0m \u001b[1m1s\u001b[0m 3ms/step - accuracy: 0.6219 - loss: 0.6124 - val_accuracy: 0.7610 - val_loss: 0.5458\n",
      "Epoch 22/50\n",
      "\u001b[1m295/295\u001b[0m \u001b[32m━━━━━━━━━━━━━━━━━━━━\u001b[0m\u001b[37m\u001b[0m \u001b[1m1s\u001b[0m 3ms/step - accuracy: 0.6205 - loss: 0.6193 - val_accuracy: 0.7602 - val_loss: 0.5356\n",
      "Epoch 23/50\n",
      "\u001b[1m295/295\u001b[0m \u001b[32m━━━━━━━━━━━━━━━━━━━━\u001b[0m\u001b[37m\u001b[0m \u001b[1m1s\u001b[0m 2ms/step - accuracy: 0.6201 - loss: 0.6191 - val_accuracy: 0.7640 - val_loss: 0.5356\n",
      "Epoch 24/50\n",
      "\u001b[1m295/295\u001b[0m \u001b[32m━━━━━━━━━━━━━━━━━━━━\u001b[0m\u001b[37m\u001b[0m \u001b[1m1s\u001b[0m 2ms/step - accuracy: 0.6217 - loss: 0.6147 - val_accuracy: 0.7564 - val_loss: 0.5255\n",
      "Epoch 25/50\n",
      "\u001b[1m295/295\u001b[0m \u001b[32m━━━━━━━━━━━━━━━━━━━━\u001b[0m\u001b[37m\u001b[0m \u001b[1m1s\u001b[0m 2ms/step - accuracy: 0.6290 - loss: 0.6133 - val_accuracy: 0.7661 - val_loss: 0.5304\n",
      "Epoch 26/50\n",
      "\u001b[1m295/295\u001b[0m \u001b[32m━━━━━━━━━━━━━━━━━━━━\u001b[0m\u001b[37m\u001b[0m \u001b[1m1s\u001b[0m 2ms/step - accuracy: 0.6289 - loss: 0.6146 - val_accuracy: 0.7581 - val_loss: 0.5417\n",
      "Epoch 27/50\n",
      "\u001b[1m295/295\u001b[0m \u001b[32m━━━━━━━━━━━━━━━━━━━━\u001b[0m\u001b[37m\u001b[0m \u001b[1m1s\u001b[0m 2ms/step - accuracy: 0.6390 - loss: 0.6042 - val_accuracy: 0.7653 - val_loss: 0.5191\n",
      "Epoch 28/50\n",
      "\u001b[1m295/295\u001b[0m \u001b[32m━━━━━━━━━━━━━━━━━━━━\u001b[0m\u001b[37m\u001b[0m \u001b[1m1s\u001b[0m 2ms/step - accuracy: 0.6234 - loss: 0.6145 - val_accuracy: 0.7704 - val_loss: 0.5183\n",
      "Epoch 29/50\n",
      "\u001b[1m295/295\u001b[0m \u001b[32m━━━━━━━━━━━━━━━━━━━━\u001b[0m\u001b[37m\u001b[0m \u001b[1m1s\u001b[0m 2ms/step - accuracy: 0.6236 - loss: 0.6169 - val_accuracy: 0.7542 - val_loss: 0.5530\n",
      "Epoch 30/50\n",
      "\u001b[1m295/295\u001b[0m \u001b[32m━━━━━━━━━━━━━━━━━━━━\u001b[0m\u001b[37m\u001b[0m \u001b[1m1s\u001b[0m 2ms/step - accuracy: 0.6287 - loss: 0.6128 - val_accuracy: 0.7721 - val_loss: 0.5264\n",
      "Epoch 31/50\n",
      "\u001b[1m295/295\u001b[0m \u001b[32m━━━━━━━━━━━━━━━━━━━━\u001b[0m\u001b[37m\u001b[0m \u001b[1m1s\u001b[0m 2ms/step - accuracy: 0.6214 - loss: 0.6155 - val_accuracy: 0.7733 - val_loss: 0.5159\n",
      "Epoch 32/50\n",
      "\u001b[1m295/295\u001b[0m \u001b[32m━━━━━━━━━━━━━━━━━━━━\u001b[0m\u001b[37m\u001b[0m \u001b[1m1s\u001b[0m 2ms/step - accuracy: 0.6373 - loss: 0.6041 - val_accuracy: 0.7551 - val_loss: 0.5448\n",
      "Epoch 33/50\n",
      "\u001b[1m295/295\u001b[0m \u001b[32m━━━━━━━━━━━━━━━━━━━━\u001b[0m\u001b[37m\u001b[0m \u001b[1m1s\u001b[0m 2ms/step - accuracy: 0.6326 - loss: 0.6063 - val_accuracy: 0.7729 - val_loss: 0.5130\n",
      "Epoch 34/50\n",
      "\u001b[1m295/295\u001b[0m \u001b[32m━━━━━━━━━━━━━━━━━━━━\u001b[0m\u001b[37m\u001b[0m \u001b[1m1s\u001b[0m 2ms/step - accuracy: 0.6203 - loss: 0.6159 - val_accuracy: 0.7793 - val_loss: 0.5106\n",
      "Epoch 35/50\n",
      "\u001b[1m295/295\u001b[0m \u001b[32m━━━━━━━━━━━━━━━━━━━━\u001b[0m\u001b[37m\u001b[0m \u001b[1m1s\u001b[0m 3ms/step - accuracy: 0.6369 - loss: 0.6070 - val_accuracy: 0.7721 - val_loss: 0.5063\n",
      "Epoch 36/50\n",
      "\u001b[1m295/295\u001b[0m \u001b[32m━━━━━━━━━━━━━━━━━━━━\u001b[0m\u001b[37m\u001b[0m \u001b[1m1s\u001b[0m 2ms/step - accuracy: 0.6224 - loss: 0.6109 - val_accuracy: 0.7746 - val_loss: 0.4925\n",
      "Epoch 37/50\n",
      "\u001b[1m295/295\u001b[0m \u001b[32m━━━━━━━━━━━━━━━━━━━━\u001b[0m\u001b[37m\u001b[0m \u001b[1m1s\u001b[0m 2ms/step - accuracy: 0.6313 - loss: 0.6042 - val_accuracy: 0.7742 - val_loss: 0.5105\n",
      "Epoch 38/50\n",
      "\u001b[1m295/295\u001b[0m \u001b[32m━━━━━━━━━━━━━━━━━━━━\u001b[0m\u001b[37m\u001b[0m \u001b[1m1s\u001b[0m 3ms/step - accuracy: 0.6412 - loss: 0.5958 - val_accuracy: 0.7772 - val_loss: 0.5214\n",
      "Epoch 39/50\n",
      "\u001b[1m295/295\u001b[0m \u001b[32m━━━━━━━━━━━━━━━━━━━━\u001b[0m\u001b[37m\u001b[0m \u001b[1m1s\u001b[0m 3ms/step - accuracy: 0.6389 - loss: 0.5997 - val_accuracy: 0.7814 - val_loss: 0.5162\n",
      "Epoch 40/50\n",
      "\u001b[1m295/295\u001b[0m \u001b[32m━━━━━━━━━━━━━━━━━━━━\u001b[0m\u001b[37m\u001b[0m \u001b[1m1s\u001b[0m 3ms/step - accuracy: 0.6400 - loss: 0.5992 - val_accuracy: 0.7814 - val_loss: 0.5384\n",
      "Epoch 41/50\n",
      "\u001b[1m295/295\u001b[0m \u001b[32m━━━━━━━━━━━━━━━━━━━━\u001b[0m\u001b[37m\u001b[0m \u001b[1m1s\u001b[0m 2ms/step - accuracy: 0.6399 - loss: 0.5980 - val_accuracy: 0.7895 - val_loss: 0.4852\n",
      "Epoch 42/50\n",
      "\u001b[1m295/295\u001b[0m \u001b[32m━━━━━━━━━━━━━━━━━━━━\u001b[0m\u001b[37m\u001b[0m \u001b[1m1s\u001b[0m 2ms/step - accuracy: 0.6397 - loss: 0.6047 - val_accuracy: 0.7907 - val_loss: 0.4952\n",
      "Epoch 43/50\n",
      "\u001b[1m295/295\u001b[0m \u001b[32m━━━━━━━━━━━━━━━━━━━━\u001b[0m\u001b[37m\u001b[0m \u001b[1m1s\u001b[0m 2ms/step - accuracy: 0.6416 - loss: 0.5970 - val_accuracy: 0.7882 - val_loss: 0.5017\n",
      "Epoch 44/50\n",
      "\u001b[1m295/295\u001b[0m \u001b[32m━━━━━━━━━━━━━━━━━━━━\u001b[0m\u001b[37m\u001b[0m \u001b[1m1s\u001b[0m 3ms/step - accuracy: 0.6374 - loss: 0.6028 - val_accuracy: 0.7784 - val_loss: 0.5142\n",
      "Epoch 45/50\n",
      "\u001b[1m295/295\u001b[0m \u001b[32m━━━━━━━━━━━━━━━━━━━━\u001b[0m\u001b[37m\u001b[0m \u001b[1m1s\u001b[0m 3ms/step - accuracy: 0.6383 - loss: 0.5986 - val_accuracy: 0.7534 - val_loss: 0.5722\n",
      "Epoch 46/50\n",
      "\u001b[1m295/295\u001b[0m \u001b[32m━━━━━━━━━━━━━━━━━━━━\u001b[0m\u001b[37m\u001b[0m \u001b[1m1s\u001b[0m 3ms/step - accuracy: 0.6356 - loss: 0.6141 - val_accuracy: 0.7712 - val_loss: 0.5566\n",
      "Epoch 47/50\n",
      "\u001b[1m295/295\u001b[0m \u001b[32m━━━━━━━━━━━━━━━━━━━━\u001b[0m\u001b[37m\u001b[0m \u001b[1m1s\u001b[0m 3ms/step - accuracy: 0.6338 - loss: 0.6039 - val_accuracy: 0.7912 - val_loss: 0.5195\n",
      "Epoch 48/50\n",
      "\u001b[1m295/295\u001b[0m \u001b[32m━━━━━━━━━━━━━━━━━━━━\u001b[0m\u001b[37m\u001b[0m \u001b[1m1s\u001b[0m 3ms/step - accuracy: 0.6388 - loss: 0.6021 - val_accuracy: 0.8179 - val_loss: 0.4780\n",
      "Epoch 49/50\n",
      "\u001b[1m295/295\u001b[0m \u001b[32m━━━━━━━━━━━━━━━━━━━━\u001b[0m\u001b[37m\u001b[0m \u001b[1m1s\u001b[0m 3ms/step - accuracy: 0.6333 - loss: 0.6135 - val_accuracy: 0.7950 - val_loss: 0.4904\n",
      "Epoch 50/50\n",
      "\u001b[1m295/295\u001b[0m \u001b[32m━━━━━━━━━━━━━━━━━━━━\u001b[0m\u001b[37m\u001b[0m \u001b[1m1s\u001b[0m 4ms/step - accuracy: 0.6415 - loss: 0.5991 - val_accuracy: 0.8128 - val_loss: 0.4915\n",
      "\u001b[1m74/74\u001b[0m \u001b[32m━━━━━━━━━━━━━━━━━━━━\u001b[0m\u001b[37m\u001b[0m \u001b[1m0s\u001b[0m 2ms/step - accuracy: 0.8076 - loss: 0.4955\n",
      "Accuracy: 81.28%\n"
     ]
    }
   ],
   "source": [
    "history = model.fit(X_train, y_train, epochs=50, batch_size=32, validation_data=(X_test, y_test))\n",
    "\n",
    "# Evaluate the model\n",
    "loss, accuracy = model.evaluate(X_test, y_test)\n",
    "print(f'Accuracy: {accuracy * 100:.2f}%')\n",
    "\n",
    "\n",
    "\n",
    "\n",
    "\n",
    "\n"
   ]
  },
  {
   "cell_type": "code",
   "execution_count": null,
   "id": "915b6313-108c-41ab-acc3-bfb98422d802",
   "metadata": {},
   "outputs": [],
   "source": []
  }
 ],
 "metadata": {
  "kernelspec": {
   "display_name": "Python 3 (ipykernel)",
   "language": "python",
   "name": "python3"
  },
  "language_info": {
   "codemirror_mode": {
    "name": "ipython",
    "version": 3
   },
   "file_extension": ".py",
   "mimetype": "text/x-python",
   "name": "python",
   "nbconvert_exporter": "python",
   "pygments_lexer": "ipython3",
   "version": "3.12.4"
  }
 },
 "nbformat": 4,
 "nbformat_minor": 5
}
